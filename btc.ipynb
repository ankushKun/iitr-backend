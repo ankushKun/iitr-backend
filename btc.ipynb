{
 "cells": [
  {
   "cell_type": "code",
   "execution_count": 4,
   "metadata": {},
   "outputs": [],
   "source": [
    "from deepface import DeepFace\n",
    "import cv2\n",
    "import qrcode"
   ]
  },
  {
   "cell_type": "code",
   "execution_count": null,
   "metadata": {},
   "outputs": [],
   "source": [
    "\n",
    "vid = cv2.VideoCapture(0)\n",
    "while(True):\n",
    "\tret, frame = vid.read()\n",
    "\tcv2.imshow('frame', frame)\n",
    "\tobjs = DeepFace.verify(frame,img2_path=\"C:/Users/adity/OneDrive/Pictures/Camera Roll/test/test2.jpg\",enforce_detection= False)\n",
    "\tprint(objs)\n",
    "\tif cv2.waitKey(1) & 0xFF == ord('q'):\n",
    "\t\tbreak\n",
    "vid.release()\n",
    "# Destroy all the windows\n",
    "cv2.destroyAllWindows()"
   ]
  },
  {
   "cell_type": "code",
   "execution_count": 18,
   "metadata": {},
   "outputs": [
    {
     "name": "stdout",
     "output_type": "stream",
     "text": [
      "{'verified': True, 'distance': 0.26557921764152037, 'threshold': 0.4, 'model': 'VGG-Face', 'detector_backend': 'opencv', 'similarity_metric': 'cosine', 'facial_areas': {'img1': {'x': 258, 'y': 14, 'w': 188, 'h': 188}, 'img2': {'x': 516, 'y': 245, 'w': 343, 'h': 343}}, 'time': 0.49}\n"
     ]
    }
   ],
   "source": [
    "print(objs)"
   ]
  },
  {
   "cell_type": "code",
   "execution_count": 12,
   "metadata": {},
   "outputs": [
    {
     "ename": "NameError",
     "evalue": "name 'det' is not defined",
     "output_type": "error",
     "traceback": [
      "\u001b[1;31m---------------------------------------------------------------------------\u001b[0m",
      "\u001b[1;31mNameError\u001b[0m                                 Traceback (most recent call last)",
      "Cell \u001b[1;32mIn[12], line 2\u001b[0m\n\u001b[0;32m      1\u001b[0m vid\u001b[39m.\u001b[39mrelease()\n\u001b[1;32m----> 2\u001b[0m det\u001b[39m.\u001b[39mrelease()\n\u001b[0;32m      3\u001b[0m cv2\u001b[39m.\u001b[39mdestroyAllWindows()\n",
      "\u001b[1;31mNameError\u001b[0m: name 'det' is not defined"
     ]
    }
   ],
   "source": [
    "vid.release()\n",
    "cv2.destroyAllWindows()"
   ]
  },
  {
   "cell_type": "code",
   "execution_count": 9,
   "metadata": {},
   "outputs": [],
   "source": [
    "def qrwrite(cogniid:str):\n",
    "    img = qrcode.make(cogniid)\n",
    "    img.save(cogniid+\".png\")  "
   ]
  },
  {
   "cell_type": "code",
   "execution_count": 11,
   "metadata": {},
   "outputs": [],
   "source": [
    "qrwrite(\"devraj-7396352909\")"
   ]
  },
  {
   "cell_type": "code",
   "execution_count": 6,
   "metadata": {},
   "outputs": [],
   "source": [
    "def qrread():\n",
    "\tdet=cv2.QRCodeDetector()\n",
    "\tvid = cv2.VideoCapture(0)\n",
    "\twhile(True):\n",
    "\t\tret, frame = vid.read()\n",
    "\t\tcv2.rectangle(frame, pt1=(200,200), pt2=(400,400), color=(0,0,255), thickness=10)\n",
    "\t\tcv2.imshow('frame', frame)\n",
    "\t\tval, pts, st_code=det.detectAndDecode(frame)\n",
    "\t\tif val==\"\":\n",
    "\t\t\tprint(end=\"\")\n",
    "\t\telse:\n",
    "\t\t\tprint(val)\n",
    "\t\t\tbreak\n",
    "\t\tif cv2.waitKey(1) & 0xFF == ord('q'):\n",
    "\t\t\tbreak\n",
    "\tvid.release()\n",
    "\tcv2.destroyAllWindows()\n"
   ]
  },
  {
   "cell_type": "code",
   "execution_count": null,
   "metadata": {},
   "outputs": [],
   "source": []
  },
  {
   "cell_type": "code",
   "execution_count": 7,
   "metadata": {},
   "outputs": [],
   "source": [
    "qrread()\n"
   ]
  },
  {
   "cell_type": "code",
   "execution_count": 6,
   "metadata": {},
   "outputs": [],
   "source": [
    "def verify(path1:str,path2:str):\n",
    "    obj=DeepFace.verify(img1_path=path1,img2_path=path2,enforce_detection= False)\n",
    "    return obj['verified']\n"
   ]
  },
  {
   "cell_type": "code",
   "execution_count": 7,
   "metadata": {},
   "outputs": [
    {
     "name": "stdout",
     "output_type": "stream",
     "text": [
      "True\n"
     ]
    }
   ],
   "source": [
    "print(verify(path1=\"C:/Users/adity/OneDrive/Pictures/Camera Roll/test/test2.jpg\",path2=\"C:/Users/adity/OneDrive/Pictures/Camera Roll/test/test2.jpg\"))"
   ]
  },
  {
   "cell_type": "code",
   "execution_count": 8,
   "metadata": {},
   "outputs": [
    {
     "ename": "SyntaxError",
     "evalue": "expected ':' (2051940798.py, line 1)",
     "output_type": "error",
     "traceback": [
      "\u001b[1;36m  Cell \u001b[1;32mIn[8], line 1\u001b[1;36m\u001b[0m\n\u001b[1;33m    def facecrop()\u001b[0m\n\u001b[1;37m                  ^\u001b[0m\n\u001b[1;31mSyntaxError\u001b[0m\u001b[1;31m:\u001b[0m expected ':'\n"
     ]
    }
   ],
   "source": [
    "def facecrop(name:str,)\n",
    "\tframe.save(name+\".png\")\n",
    "\tif cv2.waitKey(1) & 0xFF == ord('q'):\n",
    "\t\tbreak\n",
    "vid.release()\n",
    "cv2.destroyAllWindows()"
   ]
  },
  {
   "cell_type": "code",
   "execution_count": null,
   "metadata": {},
   "outputs": [],
   "source": [
    "# Importing all required packages\n",
    "import cv2\n",
    "import numpy as np\n",
    "import matplotlib.pyplot as plt\n",
    "# Read in the cascade classifiers for face and eyes\n",
    "face_cascade = cv2.CascadeClassifier('../DATA / haarcascades / haarcascade_frontalface_default.xml')\n",
    "# create a function to detect face\n",
    "def adjusted_detect_face(img):\n",
    "\t\n",
    "\tface_img = img.copy()\n",
    "\t\n",
    "\tface_rect = face_cascade.detectMultiScale(face_img,\n",
    "\t\t\t\t\t\t\t\t\t\t\tscaleFactor = 1.2,\n",
    "\t\t\t\t\t\t\t\t\t\t\tminNeighbors = 5)\n",
    "\t\n",
    "\tfor (x, y, w, h) in face_rect:\n",
    "\t\tcv2.rectangle(face_img, (x, y),\n",
    "\t\t\t\t\t(x + w, y + h), (255, 255, 255), 10)\\\n",
    "\t\t\n",
    "\treturn face_img\n",
    "\n",
    "\n",
    "\n",
    "# Reading in the image and creating copies\n",
    "img = cv2.imread('../sachin.jpg')\n",
    "img_copy1 = img.copy()\n",
    "img_copy2 = img.copy()\n",
    "img_copy3 = img.copy()\n",
    "\n",
    "# Detecting the face\n",
    "face = adjusted_detect_face(img_copy)\n",
    "plt.imshow(face)\n",
    "# Saving the image\n",
    "cv2.imwrite('face.jpg', face)\n"
   ]
  },
  {
   "cell_type": "code",
   "execution_count": 57,
   "metadata": {},
   "outputs": [],
   "source": [
    "def adjusted_detect_face(imgpath:str):\n",
    "\timg=cv2.imread(imgpath)\n",
    "\tface_cascade = cv2.CascadeClassifier('face.xml')\n",
    "\tface_img = img.copy()\n",
    "\tface_rect = face_cascade.detectMultiScale(face_img,scaleFactor = 1.2,minNeighbors = 5)\n",
    "\tfor (x, y, w, h) in face_rect:\n",
    "\t\tcv2.rectangle(face_img, (x, y),\n",
    "\t\t\t\t\t(x + w, y + h), (255, 255, 255), 10)\n",
    "\t\tfaces = img[y:y + h, x:x + w]\n",
    "\t\tcv2.imwrite('face_img', faces)\n",
    "\t\treturn face_img"
   ]
  },
  {
   "cell_type": "code",
   "execution_count": 55,
   "metadata": {},
   "outputs": [],
   "source": [
    "adjusted_detect_face(\"C:/Users/adity/OneDrive/Pictures/Camera Roll/test/test2.jpg\")"
   ]
  }
 ],
 "metadata": {
  "kernelspec": {
   "display_name": "base",
   "language": "python",
   "name": "python3"
  },
  "language_info": {
   "codemirror_mode": {
    "name": "ipython",
    "version": 3
   },
   "file_extension": ".py",
   "mimetype": "text/x-python",
   "name": "python",
   "nbconvert_exporter": "python",
   "pygments_lexer": "ipython3",
   "version": "3.10.9"
  },
  "orig_nbformat": 4
 },
 "nbformat": 4,
 "nbformat_minor": 2
}
