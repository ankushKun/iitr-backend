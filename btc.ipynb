{
 "cells": [
  {
   "cell_type": "code",
   "execution_count": 1,
   "metadata": {},
   "outputs": [],
   "source": [
    "from deepface import DeepFace\n",
    "import cv2\n",
    "import qrcode"
   ]
  },
  {
   "cell_type": "code",
   "execution_count": 2,
   "metadata": {},
   "outputs": [
    {
     "name": "stdout",
     "output_type": "stream",
     "text": [
      "{'verified': False, 'distance': 0.5196059085490081, 'threshold': 0.4, 'model': 'VGG-Face', 'detector_backend': 'opencv', 'similarity_metric': 'cosine', 'facial_areas': {'img1': {'x': 0, 'y': 0, 'w': 640, 'h': 480}, 'img2': {'x': 516, 'y': 245, 'w': 343, 'h': 343}}, 'time': 4.58}\n",
      "{'verified': False, 'distance': 0.46468542256180845, 'threshold': 0.4, 'model': 'VGG-Face', 'detector_backend': 'opencv', 'similarity_metric': 'cosine', 'facial_areas': {'img1': {'x': 0, 'y': 0, 'w': 640, 'h': 480}, 'img2': {'x': 516, 'y': 245, 'w': 343, 'h': 343}}, 'time': 0.76}\n",
      "{'verified': False, 'distance': 0.46577964893315593, 'threshold': 0.4, 'model': 'VGG-Face', 'detector_backend': 'opencv', 'similarity_metric': 'cosine', 'facial_areas': {'img1': {'x': 0, 'y': 0, 'w': 640, 'h': 480}, 'img2': {'x': 516, 'y': 245, 'w': 343, 'h': 343}}, 'time': 0.96}\n",
      "{'verified': False, 'distance': 0.472242458151108, 'threshold': 0.4, 'model': 'VGG-Face', 'detector_backend': 'opencv', 'similarity_metric': 'cosine', 'facial_areas': {'img1': {'x': 0, 'y': 0, 'w': 640, 'h': 480}, 'img2': {'x': 516, 'y': 245, 'w': 343, 'h': 343}}, 'time': 0.74}\n",
      "{'verified': False, 'distance': 0.46704917957733905, 'threshold': 0.4, 'model': 'VGG-Face', 'detector_backend': 'opencv', 'similarity_metric': 'cosine', 'facial_areas': {'img1': {'x': 0, 'y': 0, 'w': 640, 'h': 480}, 'img2': {'x': 516, 'y': 245, 'w': 343, 'h': 343}}, 'time': 0.61}\n",
      "{'verified': False, 'distance': 0.47021138926171213, 'threshold': 0.4, 'model': 'VGG-Face', 'detector_backend': 'opencv', 'similarity_metric': 'cosine', 'facial_areas': {'img1': {'x': 0, 'y': 0, 'w': 640, 'h': 480}, 'img2': {'x': 516, 'y': 245, 'w': 343, 'h': 343}}, 'time': 0.66}\n",
      "{'verified': False, 'distance': 0.47557643789540127, 'threshold': 0.4, 'model': 'VGG-Face', 'detector_backend': 'opencv', 'similarity_metric': 'cosine', 'facial_areas': {'img1': {'x': 0, 'y': 0, 'w': 640, 'h': 480}, 'img2': {'x': 516, 'y': 245, 'w': 343, 'h': 343}}, 'time': 0.5}\n",
      "{'verified': False, 'distance': 0.4590244441268373, 'threshold': 0.4, 'model': 'VGG-Face', 'detector_backend': 'opencv', 'similarity_metric': 'cosine', 'facial_areas': {'img1': {'x': 325, 'y': 159, 'w': 157, 'h': 157}, 'img2': {'x': 516, 'y': 245, 'w': 343, 'h': 343}}, 'time': 0.57}\n",
      "{'verified': False, 'distance': 0.4435207981317214, 'threshold': 0.4, 'model': 'VGG-Face', 'detector_backend': 'opencv', 'similarity_metric': 'cosine', 'facial_areas': {'img1': {'x': 335, 'y': 155, 'w': 157, 'h': 157}, 'img2': {'x': 516, 'y': 245, 'w': 343, 'h': 343}}, 'time': 0.6}\n",
      "{'verified': False, 'distance': 0.471517852503594, 'threshold': 0.4, 'model': 'VGG-Face', 'detector_backend': 'opencv', 'similarity_metric': 'cosine', 'facial_areas': {'img1': {'x': 0, 'y': 0, 'w': 640, 'h': 480}, 'img2': {'x': 516, 'y': 245, 'w': 343, 'h': 343}}, 'time': 0.6}\n",
      "{'verified': False, 'distance': 0.4275075359719016, 'threshold': 0.4, 'model': 'VGG-Face', 'detector_backend': 'opencv', 'similarity_metric': 'cosine', 'facial_areas': {'img1': {'x': 338, 'y': 160, 'w': 158, 'h': 158}, 'img2': {'x': 516, 'y': 245, 'w': 343, 'h': 343}}, 'time': 0.65}\n",
      "{'verified': False, 'distance': 0.4437536556618399, 'threshold': 0.4, 'model': 'VGG-Face', 'detector_backend': 'opencv', 'similarity_metric': 'cosine', 'facial_areas': {'img1': {'x': 358, 'y': 154, 'w': 160, 'h': 160}, 'img2': {'x': 516, 'y': 245, 'w': 343, 'h': 343}}, 'time': 0.65}\n",
      "{'verified': False, 'distance': 0.4783179902266358, 'threshold': 0.4, 'model': 'VGG-Face', 'detector_backend': 'opencv', 'similarity_metric': 'cosine', 'facial_areas': {'img1': {'x': 380, 'y': 131, 'w': 170, 'h': 170}, 'img2': {'x': 516, 'y': 245, 'w': 343, 'h': 343}}, 'time': 0.63}\n",
      "{'verified': False, 'distance': 0.5818318366992938, 'threshold': 0.4, 'model': 'VGG-Face', 'detector_backend': 'opencv', 'similarity_metric': 'cosine', 'facial_areas': {'img1': {'x': 0, 'y': 0, 'w': 640, 'h': 480}, 'img2': {'x': 516, 'y': 245, 'w': 343, 'h': 343}}, 'time': 0.61}\n",
      "{'verified': False, 'distance': 0.4919470696888224, 'threshold': 0.4, 'model': 'VGG-Face', 'detector_backend': 'opencv', 'similarity_metric': 'cosine', 'facial_areas': {'img1': {'x': 0, 'y': 0, 'w': 640, 'h': 480}, 'img2': {'x': 516, 'y': 245, 'w': 343, 'h': 343}}, 'time': 0.54}\n",
      "{'verified': False, 'distance': 0.4799408346428582, 'threshold': 0.4, 'model': 'VGG-Face', 'detector_backend': 'opencv', 'similarity_metric': 'cosine', 'facial_areas': {'img1': {'x': 0, 'y': 0, 'w': 640, 'h': 480}, 'img2': {'x': 516, 'y': 245, 'w': 343, 'h': 343}}, 'time': 0.54}\n",
      "{'verified': False, 'distance': 0.47523593944591314, 'threshold': 0.4, 'model': 'VGG-Face', 'detector_backend': 'opencv', 'similarity_metric': 'cosine', 'facial_areas': {'img1': {'x': 257, 'y': 101, 'w': 174, 'h': 174}, 'img2': {'x': 516, 'y': 245, 'w': 343, 'h': 343}}, 'time': 0.64}\n",
      "{'verified': False, 'distance': 0.43543698693253774, 'threshold': 0.4, 'model': 'VGG-Face', 'detector_backend': 'opencv', 'similarity_metric': 'cosine', 'facial_areas': {'img1': {'x': 254, 'y': 102, 'w': 181, 'h': 181}, 'img2': {'x': 516, 'y': 245, 'w': 343, 'h': 343}}, 'time': 0.6}\n",
      "{'verified': False, 'distance': 0.42105011155426686, 'threshold': 0.4, 'model': 'VGG-Face', 'detector_backend': 'opencv', 'similarity_metric': 'cosine', 'facial_areas': {'img1': {'x': 244, 'y': 93, 'w': 179, 'h': 179}, 'img2': {'x': 516, 'y': 245, 'w': 343, 'h': 343}}, 'time': 0.72}\n",
      "{'verified': True, 'distance': 0.3576293352022194, 'threshold': 0.4, 'model': 'VGG-Face', 'detector_backend': 'opencv', 'similarity_metric': 'cosine', 'facial_areas': {'img1': {'x': 244, 'y': 131, 'w': 181, 'h': 181}, 'img2': {'x': 516, 'y': 245, 'w': 343, 'h': 343}}, 'time': 0.57}\n",
      "{'verified': False, 'distance': 0.5090463949972057, 'threshold': 0.4, 'model': 'VGG-Face', 'detector_backend': 'opencv', 'similarity_metric': 'cosine', 'facial_areas': {'img1': {'x': 0, 'y': 0, 'w': 640, 'h': 480}, 'img2': {'x': 516, 'y': 245, 'w': 343, 'h': 343}}, 'time': 0.64}\n",
      "{'verified': False, 'distance': 0.43755054291783413, 'threshold': 0.4, 'model': 'VGG-Face', 'detector_backend': 'opencv', 'similarity_metric': 'cosine', 'facial_areas': {'img1': {'x': 277, 'y': 123, 'w': 180, 'h': 180}, 'img2': {'x': 516, 'y': 245, 'w': 343, 'h': 343}}, 'time': 0.62}\n",
      "{'verified': True, 'distance': 0.379561886855725, 'threshold': 0.4, 'model': 'VGG-Face', 'detector_backend': 'opencv', 'similarity_metric': 'cosine', 'facial_areas': {'img1': {'x': 256, 'y': 130, 'w': 183, 'h': 183}, 'img2': {'x': 516, 'y': 245, 'w': 343, 'h': 343}}, 'time': 0.6}\n",
      "{'verified': False, 'distance': 0.5207308219675815, 'threshold': 0.4, 'model': 'VGG-Face', 'detector_backend': 'opencv', 'similarity_metric': 'cosine', 'facial_areas': {'img1': {'x': 0, 'y': 0, 'w': 640, 'h': 480}, 'img2': {'x': 516, 'y': 245, 'w': 343, 'h': 343}}, 'time': 0.61}\n",
      "{'verified': False, 'distance': 0.40544036221401514, 'threshold': 0.4, 'model': 'VGG-Face', 'detector_backend': 'opencv', 'similarity_metric': 'cosine', 'facial_areas': {'img1': {'x': 232, 'y': 104, 'w': 186, 'h': 186}, 'img2': {'x': 516, 'y': 245, 'w': 343, 'h': 343}}, 'time': 0.65}\n",
      "{'verified': False, 'distance': 0.5213598736673182, 'threshold': 0.4, 'model': 'VGG-Face', 'detector_backend': 'opencv', 'similarity_metric': 'cosine', 'facial_areas': {'img1': {'x': 0, 'y': 0, 'w': 640, 'h': 480}, 'img2': {'x': 516, 'y': 245, 'w': 343, 'h': 343}}, 'time': 0.53}\n",
      "{'verified': False, 'distance': 0.5067173931151667, 'threshold': 0.4, 'model': 'VGG-Face', 'detector_backend': 'opencv', 'similarity_metric': 'cosine', 'facial_areas': {'img1': {'x': 0, 'y': 0, 'w': 640, 'h': 480}, 'img2': {'x': 516, 'y': 245, 'w': 343, 'h': 343}}, 'time': 0.54}\n",
      "{'verified': False, 'distance': 0.5130440035334998, 'threshold': 0.4, 'model': 'VGG-Face', 'detector_backend': 'opencv', 'similarity_metric': 'cosine', 'facial_areas': {'img1': {'x': 0, 'y': 0, 'w': 640, 'h': 480}, 'img2': {'x': 516, 'y': 245, 'w': 343, 'h': 343}}, 'time': 0.62}\n",
      "{'verified': False, 'distance': 0.5101325303053802, 'threshold': 0.4, 'model': 'VGG-Face', 'detector_backend': 'opencv', 'similarity_metric': 'cosine', 'facial_areas': {'img1': {'x': 0, 'y': 0, 'w': 640, 'h': 480}, 'img2': {'x': 516, 'y': 245, 'w': 343, 'h': 343}}, 'time': 0.6}\n",
      "{'verified': False, 'distance': 0.51267509326458, 'threshold': 0.4, 'model': 'VGG-Face', 'detector_backend': 'opencv', 'similarity_metric': 'cosine', 'facial_areas': {'img1': {'x': 0, 'y': 0, 'w': 640, 'h': 480}, 'img2': {'x': 516, 'y': 245, 'w': 343, 'h': 343}}, 'time': 0.57}\n",
      "{'verified': False, 'distance': 0.5135366518915585, 'threshold': 0.4, 'model': 'VGG-Face', 'detector_backend': 'opencv', 'similarity_metric': 'cosine', 'facial_areas': {'img1': {'x': 0, 'y': 0, 'w': 640, 'h': 480}, 'img2': {'x': 516, 'y': 245, 'w': 343, 'h': 343}}, 'time': 0.53}\n",
      "{'verified': False, 'distance': 0.5094194444890181, 'threshold': 0.4, 'model': 'VGG-Face', 'detector_backend': 'opencv', 'similarity_metric': 'cosine', 'facial_areas': {'img1': {'x': 0, 'y': 0, 'w': 640, 'h': 480}, 'img2': {'x': 516, 'y': 245, 'w': 343, 'h': 343}}, 'time': 0.55}\n",
      "{'verified': False, 'distance': 0.5188721815617654, 'threshold': 0.4, 'model': 'VGG-Face', 'detector_backend': 'opencv', 'similarity_metric': 'cosine', 'facial_areas': {'img1': {'x': 0, 'y': 0, 'w': 640, 'h': 480}, 'img2': {'x': 516, 'y': 245, 'w': 343, 'h': 343}}, 'time': 0.56}\n",
      "{'verified': False, 'distance': 0.5127221306428906, 'threshold': 0.4, 'model': 'VGG-Face', 'detector_backend': 'opencv', 'similarity_metric': 'cosine', 'facial_areas': {'img1': {'x': 0, 'y': 0, 'w': 640, 'h': 480}, 'img2': {'x': 516, 'y': 245, 'w': 343, 'h': 343}}, 'time': 0.61}\n",
      "{'verified': False, 'distance': 0.49369621335361114, 'threshold': 0.4, 'model': 'VGG-Face', 'detector_backend': 'opencv', 'similarity_metric': 'cosine', 'facial_areas': {'img1': {'x': 0, 'y': 0, 'w': 640, 'h': 480}, 'img2': {'x': 516, 'y': 245, 'w': 343, 'h': 343}}, 'time': 0.58}\n",
      "{'verified': False, 'distance': 0.49683750543202276, 'threshold': 0.4, 'model': 'VGG-Face', 'detector_backend': 'opencv', 'similarity_metric': 'cosine', 'facial_areas': {'img1': {'x': 0, 'y': 0, 'w': 640, 'h': 480}, 'img2': {'x': 516, 'y': 245, 'w': 343, 'h': 343}}, 'time': 0.55}\n",
      "{'verified': False, 'distance': 0.500417705650658, 'threshold': 0.4, 'model': 'VGG-Face', 'detector_backend': 'opencv', 'similarity_metric': 'cosine', 'facial_areas': {'img1': {'x': 0, 'y': 0, 'w': 640, 'h': 480}, 'img2': {'x': 516, 'y': 245, 'w': 343, 'h': 343}}, 'time': 0.53}\n",
      "{'verified': False, 'distance': 0.5036709561028824, 'threshold': 0.4, 'model': 'VGG-Face', 'detector_backend': 'opencv', 'similarity_metric': 'cosine', 'facial_areas': {'img1': {'x': 0, 'y': 0, 'w': 640, 'h': 480}, 'img2': {'x': 516, 'y': 245, 'w': 343, 'h': 343}}, 'time': 0.57}\n",
      "{'verified': False, 'distance': 0.5001419525070379, 'threshold': 0.4, 'model': 'VGG-Face', 'detector_backend': 'opencv', 'similarity_metric': 'cosine', 'facial_areas': {'img1': {'x': 0, 'y': 0, 'w': 640, 'h': 480}, 'img2': {'x': 516, 'y': 245, 'w': 343, 'h': 343}}, 'time': 0.53}\n",
      "{'verified': False, 'distance': 0.5049187047464162, 'threshold': 0.4, 'model': 'VGG-Face', 'detector_backend': 'opencv', 'similarity_metric': 'cosine', 'facial_areas': {'img1': {'x': 0, 'y': 0, 'w': 640, 'h': 480}, 'img2': {'x': 516, 'y': 245, 'w': 343, 'h': 343}}, 'time': 0.49}\n"
     ]
    }
   ],
   "source": [
    "\n",
    "vid = cv2.VideoCapture(0)\n",
    "while(True):\n",
    "\tret, frame = vid.read()\n",
    "\tcv2.imshow('frame', frame)\n",
    "\tobjs = DeepFace.verify(frame,img2_path=\"C:/Users/adity/OneDrive/Pictures/Camera Roll/test/test2.jpg\",enforce_detection= False)\n",
    "\tprint(objs)\n",
    "\tif cv2.waitKey(1) & 0xFF == ord('q'):\n",
    "\t\tbreak\n",
    "vid.release()\n",
    "# Destroy all the windows\n",
    "cv2.destroyAllWindows()"
   ]
  },
  {
   "cell_type": "code",
   "execution_count": 18,
   "metadata": {},
   "outputs": [
    {
     "name": "stdout",
     "output_type": "stream",
     "text": [
      "{'verified': True, 'distance': 0.26557921764152037, 'threshold': 0.4, 'model': 'VGG-Face', 'detector_backend': 'opencv', 'similarity_metric': 'cosine', 'facial_areas': {'img1': {'x': 258, 'y': 14, 'w': 188, 'h': 188}, 'img2': {'x': 516, 'y': 245, 'w': 343, 'h': 343}}, 'time': 0.49}\n"
     ]
    }
   ],
   "source": [
    "print(objs)"
   ]
  },
  {
   "cell_type": "code",
   "execution_count": 12,
   "metadata": {},
   "outputs": [
    {
     "ename": "NameError",
     "evalue": "name 'det' is not defined",
     "output_type": "error",
     "traceback": [
      "\u001b[1;31m---------------------------------------------------------------------------\u001b[0m",
      "\u001b[1;31mNameError\u001b[0m                                 Traceback (most recent call last)",
      "Cell \u001b[1;32mIn[12], line 2\u001b[0m\n\u001b[0;32m      1\u001b[0m vid\u001b[39m.\u001b[39mrelease()\n\u001b[1;32m----> 2\u001b[0m det\u001b[39m.\u001b[39mrelease()\n\u001b[0;32m      3\u001b[0m cv2\u001b[39m.\u001b[39mdestroyAllWindows()\n",
      "\u001b[1;31mNameError\u001b[0m: name 'det' is not defined"
     ]
    }
   ],
   "source": [
    "vid.release()\n",
    "det.release()\n",
    "cv2.destroyAllWindows()"
   ]
  },
  {
   "cell_type": "code",
   "execution_count": 9,
   "metadata": {},
   "outputs": [],
   "source": [
    "def qrwrite(cogniid:str):\n",
    "    img = qrcode.make(cogniid)\n",
    "    img.save(cogniid+\".png\")  "
   ]
  },
  {
   "cell_type": "code",
   "execution_count": 11,
   "metadata": {},
   "outputs": [],
   "source": [
    "qrwrite(\"devraj-7396352909\")"
   ]
  },
  {
   "cell_type": "code",
   "execution_count": 6,
   "metadata": {},
   "outputs": [],
   "source": [
    "def qrread():\n",
    "\tdet=cv2.QRCodeDetector()\n",
    "\tvid = cv2.VideoCapture(0)\n",
    "\twhile(True):\n",
    "\t\tret, frame = vid.read()\n",
    "\t\tcv2.rectangle(frame, pt1=(200,200), pt2=(400,400), color=(0,0,255), thickness=10)\n",
    "\t\tcv2.imshow('frame', frame)\n",
    "\t\tval, pts, st_code=det.detectAndDecode(frame)\n",
    "\t\tif val==\"\":\n",
    "\t\t\tprint(end=\"\")\n",
    "\t\telse:\n",
    "\t\t\tprint(val)\n",
    "\t\t\tbreak\n",
    "\t\tif cv2.waitKey(1) & 0xFF == ord('q'):\n",
    "\t\t\tbreak\n",
    "\tvid.release()\n",
    "\tcv2.destroyAllWindows()\n"
   ]
  },
  {
   "cell_type": "code",
   "execution_count": 7,
   "metadata": {},
   "outputs": [],
   "source": [
    "qrread()\n"
   ]
  }
 ],
 "metadata": {
  "kernelspec": {
   "display_name": "base",
   "language": "python",
   "name": "python3"
  },
  "language_info": {
   "codemirror_mode": {
    "name": "ipython",
    "version": 3
   },
   "file_extension": ".py",
   "mimetype": "text/x-python",
   "name": "python",
   "nbconvert_exporter": "python",
   "pygments_lexer": "ipython3",
   "version": "3.10.9"
  },
  "orig_nbformat": 4
 },
 "nbformat": 4,
 "nbformat_minor": 2
}
