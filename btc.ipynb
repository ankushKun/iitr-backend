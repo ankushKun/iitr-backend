{
 "cells": [
  {
   "cell_type": "code",
   "execution_count": 1,
   "metadata": {},
   "outputs": [],
   "source": [
    "from deepface import DeepFace\n",
    "import cv2\n",
    "import qrcode"
   ]
  },
  {
   "cell_type": "code",
   "execution_count": 2,
   "metadata": {},
   "outputs": [
    {
     "name": "stdout",
     "output_type": "stream",
     "text": []
    }
   ],
   "source": [
    "\n",
    "vid = cv2.VideoCapture(0)\n",
    "while(True):\n",
    "\tret, frame = vid.read()\n",
    "\tcv2.imshow('frame', frame)\n",
    "\tobjs = DeepFace.verify(frame,img2_path=\"C:/Users/adity/OneDrive/Pictures/Camera Roll/test/test2.jpg\",enforce_detection= False)\n",
    "\tprint(objs)\n",
    "\tif cv2.waitKey(1) & 0xFF == ord('q'):\n",
    "\t\tbreak\n",
    "vid.release()\n",
    "# Destroy all the windows\n",
    "cv2.destroyAllWindows()"
   ]
  },
  {
   "cell_type": "code",
   "execution_count": 18,
   "metadata": {},
   "outputs": [
    {
     "name": "stdout",
     "output_type": "stream",
     "text": [
      "{'verified': True, 'distance': 0.26557921764152037, 'threshold': 0.4, 'model': 'VGG-Face', 'detector_backend': 'opencv', 'similarity_metric': 'cosine', 'facial_areas': {'img1': {'x': 258, 'y': 14, 'w': 188, 'h': 188}, 'img2': {'x': 516, 'y': 245, 'w': 343, 'h': 343}}, 'time': 0.49}\n"
     ]
    }
   ],
   "source": [
    "print(objs)"
   ]
  },
  {
   "cell_type": "code",
   "execution_count": 12,
   "metadata": {},
   "outputs": [   ],
   "source": [
    "vid.release()\n",
    "cv2.destroyAllWindows()"
   ]
  },
  {
   "cell_type": "code",
   "execution_count": 9,
   "metadata": {},
   "outputs": [],
   "source": [
    "def qrwrite(cogniid:str):\n",
    "    img = qrcode.make(cogniid)\n",
    "    img.save(cogniid+\".png\")  "
   ]
  },
  {
   "cell_type": "code",
   "execution_count": 11,
   "metadata": {},
   "outputs": [],
   "source": [
    "qrwrite(\"devraj-7396352909\")"
   ]
  },
  {
   "cell_type": "code",
   "execution_count": 6,
   "metadata": {},
   "outputs": [],
   "source": [
    "def qrread():\n",
    "\tdet=cv2.QRCodeDetector()\n",
    "\tvid = cv2.VideoCapture(0)\n",
    "\twhile(True):\n",
    "\t\tret, frame = vid.read()\n",
    "\t\tcv2.rectangle(frame, pt1=(200,200), pt2=(400,400), color=(0,0,255), thickness=10)\n",
    "\t\tcv2.imshow('frame', frame)\n",
    "\t\tval, pts, st_code=det.detectAndDecode(frame)\n",
    "\t\tif val==\"\":\n",
    "\t\t\tprint(end=\"\")\n",
    "\t\telse:\n",
    "\t\t\tprint(val)\n",
    "\t\t\tbreak\n",
    "\t\tif cv2.waitKey(1) & 0xFF == ord('q'):\n",
    "\t\t\tbreak\n",
    "\tvid.release()\n",
    "\tcv2.destroyAllWindows()\n"
   ]
  },
  {
   "cell_type": "code",
   "execution_count": 7,
   "metadata": {},
   "outputs": [],
   "source": [
    "qrread()\n"
   ]
  }
 ],
 "metadata": {
  "kernelspec": {
   "display_name": "base",
   "language": "python",
   "name": "python3"
  },
  "language_info": {
   "codemirror_mode": {
    "name": "ipython",
    "version": 3
   },
   "file_extension": ".py",
   "mimetype": "text/x-python",
   "name": "python",
   "nbconvert_exporter": "python",
   "pygments_lexer": "ipython3",
   "version": "3.10.9"
  },
  "orig_nbformat": 4
 },
 "nbformat": 4,
 "nbformat_minor": 2
}
